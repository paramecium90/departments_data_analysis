{
 "cells": [
  {
   "cell_type": "markdown",
   "id": "6395ebe0",
   "metadata": {},
   "source": [
    "<H1>INTRO </H1>"
   ]
  },
  {
   "cell_type": "code",
   "execution_count": 13,
   "id": "07de1192",
   "metadata": {},
   "outputs": [],
   "source": [
    "import pandas as pd\n",
    "import matplotlib.pyplot as plt\n",
    "import numpy as np\n",
    "#dep info later\n",
    "%matplotlib inline"
   ]
  },
  {
   "cell_type": "code",
   "execution_count": 14,
   "id": "72aa962e",
   "metadata": {},
   "outputs": [],
   "source": [
    "from sklearn.neighbors import KNeighborsClassifier,NeighborhoodComponentsAnalysis\n",
    "from sklearn.svm import SVC\n",
    "\n",
    "from sklearn.preprocessing import LabelEncoder\n",
    "\n",
    "from sklearn.preprocessing import QuantileTransformer\n",
    "from sklearn.preprocessing import MaxAbsScaler\n",
    "from sklearn.preprocessing import StandardScaler\n",
    "\n",
    "from sklearn.metrics import accuracy_score\n",
    "\n",
    "from sklearn.pipeline import Pipeline\n",
    "from sklearn.model_selection import GridSearchCV\n",
    "from sklearn.metrics import f1_score"
   ]
  },
  {
   "cell_type": "code",
   "execution_count": 15,
   "id": "cad08194",
   "metadata": {},
   "outputs": [],
   "source": [
    "from sklearn.metrics import confusion_matrix\n",
    "from sklearn.metrics import SCORERS\n",
    "\n",
    "import matplotlib.pyplot as plt\n",
    "from sklearn.datasets import make_classification\n",
    "from sklearn.metrics import confusion_matrix, ConfusionMatrixDisplay\n",
    "from sklearn.model_selection import train_test_split\n",
    "from sklearn.model_selection import cross_val_score\n",
    "from sklearn.model_selection import KFold\n",
    "from sklearn.preprocessing import OneHotEncoder"
   ]
  },
  {
   "cell_type": "code",
   "execution_count": 16,
   "id": "6376b1a5",
   "metadata": {},
   "outputs": [],
   "source": [
    "df = pd.read_csv(\"cleandata.csv\")\n",
    "columns = list(df)\n",
    "df['Position'] = pd.Categorical(df['Position'],\n",
    "                                    categories=['Professor', 'Associate Professor', 'Assistant Professor', 'Lecturer',\n",
    "                                                'Lab Lecturer'],\n",
    "                                    ordered=True)\n",
    "df[\"age_by_5\"] = ((df[\"age\"] -1)// 4) * 4+1\n",
    "df[\"C\"] = pd.to_numeric(df[\"C\"], errors=\"coerce\")\n",
    "df[\"P\"] = pd.to_numeric(df[\"P\"], errors=\"coerce\")\n",
    "df[\"H\"] = pd.to_numeric(df[\"H\"], errors=\"coerce\")\n",
    "df[\"P5\"] = pd.to_numeric(df[\"P5\"], errors=\"coerce\")\n",
    "df[\"C5\"] = pd.to_numeric(df[\"C5\"], errors=\"coerce\")\n",
    "df[\"H5\"] = pd.to_numeric(df[\"H5\"], errors=\"coerce\")\n",
    "df[\"avgC\"] = pd.to_numeric(df[\"avgC\"], errors=\"coerce\")\n",
    "df[\"P5avg\"] = df[\"P5\"] /6\n",
    "df[\"C5avg\"] = df[\"C5\"] /6\n",
    "df[\"H5avg\"] = df[\"H5\"] /6\n",
    "list_of_positions = ['Professor', 'Associate Professor', 'Assistant Professor', 'Lecturer', 'Lab Lecturer']\n",
    "list_of_positions1 = ['Professor', 'Associate \\n Professor', 'Assistant \\n Professor', 'Lecturer', 'Lab Lecturer']\n",
    "list_of_dept = df[\"Dept\"].value_counts().index\n",
    "df[[\"P\",\"C\",\"H\",\"P5\",\"C5\",\"H5\"]] = df[[\"P\",\"C\",\"H\",\"P5\",\"C5\",\"H5\"]].fillna(0)\n",
    "# dep_categorization_by_region()\n",
    "\n",
    "\n",
    "\n"
   ]
  },
  {
   "cell_type": "code",
   "execution_count": 17,
   "id": "cbef1c66",
   "metadata": {
    "scrolled": false
   },
   "outputs": [
    {
     "name": "stdout",
     "output_type": "stream",
     "text": [
      "['accuracy', 'adjusted_mutual_info_score', 'adjusted_rand_score', 'average_precision', 'balanced_accuracy', 'completeness_score', 'explained_variance', 'f1', 'f1_macro', 'f1_micro', 'f1_samples', 'f1_weighted', 'fowlkes_mallows_score', 'homogeneity_score', 'jaccard', 'jaccard_macro', 'jaccard_micro', 'jaccard_samples', 'jaccard_weighted', 'max_error', 'mutual_info_score', 'neg_brier_score', 'neg_log_loss', 'neg_mean_absolute_error', 'neg_mean_absolute_percentage_error', 'neg_mean_gamma_deviance', 'neg_mean_poisson_deviance', 'neg_mean_squared_error', 'neg_mean_squared_log_error', 'neg_median_absolute_error', 'neg_root_mean_squared_error', 'normalized_mutual_info_score', 'precision', 'precision_macro', 'precision_micro', 'precision_samples', 'precision_weighted', 'r2', 'rand_score', 'recall', 'recall_macro', 'recall_micro', 'recall_samples', 'recall_weighted', 'roc_auc', 'roc_auc_ovo', 'roc_auc_ovo_weighted', 'roc_auc_ovr', 'roc_auc_ovr_weighted', 'top_k_accuracy', 'v_measure_score']\n"
     ]
    }
   ],
   "source": [
    "print(sorted(SCORERS.keys()))"
   ]
  },
  {
   "cell_type": "markdown",
   "id": "f6d3f7f1",
   "metadata": {},
   "source": [
    "<H1>CLASSIFICATION </H1>"
   ]
  },
  {
   "cell_type": "code",
   "execution_count": 18,
   "id": "623c6ae3",
   "metadata": {},
   "outputs": [],
   "source": [
    "# prints recall presicion F1-score\n",
    "\n",
    "def metrics_calculator(cm):\n",
    "    for i in range (len(cm)):\n",
    "            print(list_of_positions[i])\n",
    "            TP = cm[i][i]\n",
    "            R = TP/(sum(cm[i]))\n",
    "            print(f\"Recall = {R}\")\n",
    "            P = TP/(sum([cm[j][i] for j in range(5)]))\n",
    "            print(f\"Presicion = {P}\")\n",
    "            F = 2*P*R/(P + R)\n",
    "            print(f\"F1 score = {F}\\n\")\n",
    "                    \n",
    "        "
   ]
  },
  {
   "cell_type": "markdown",
   "id": "53982762",
   "metadata": {},
   "source": [
    "<h4> OneHotEncoder <h4>"
   ]
  },
  {
   "cell_type": "code",
   "execution_count": 19,
   "id": "fd245d7d",
   "metadata": {
    "scrolled": true
   },
   "outputs": [],
   "source": [
    "encoder= OneHotEncoder(sparse=False)\n",
    "encoded_dept = encoder.fit_transform(df[[\"Dept\"]])\n",
    "encoded_dept = pd.DataFrame(encoded_dept)\n",
    "\n",
    "X=pd.concat([df[[\"P\",\"C\",\"age\"]],encoded_dept],axis= 1)\n",
    "\n",
    "y=df[\"Position\"]"
   ]
  },
  {
   "cell_type": "code",
   "execution_count": 20,
   "id": "f5119471",
   "metadata": {},
   "outputs": [],
   "source": [
    "from sklearn.preprocessing import FunctionTransformer\n",
    "\n",
    "\n",
    "# quantile trasformer gia age cit pub, /5 to onehotencoding\n",
    "def transformer_fun(X):\n",
    "    trasformer   = QuantileTransformer(n_quantiles=15)\n",
    "    X[:,0:3]  = trasformer.fit_transform(X[:,0:3])\n",
    "    X[:,3:] = X[:,3:]/5\n",
    "    return X\n",
    "    \n",
    "custom_transformer = FunctionTransformer(transformer_fun, validate=True)\n",
    "\n",
    "X =custom_transformer.fit_transform(X)\n",
    "X= pd.DataFrame(X)\n",
    "\n",
    "x2=X\n",
    "\n"
   ]
  },
  {
   "cell_type": "markdown",
   "id": "46249483",
   "metadata": {},
   "source": [
    "<H2>ALL DATA KNN</H2>"
   ]
  },
  {
   "cell_type": "code",
   "execution_count": 21,
   "id": "f4dc66de",
   "metadata": {
    "scrolled": false
   },
   "outputs": [
    {
     "name": "stdout",
     "output_type": "stream",
     "text": [
      "cv = 5, accuracy  = 0.6136968004371319\n"
     ]
    }
   ],
   "source": [
    "\n",
    "pipe = KNeighborsClassifier(n_neighbors=14)\n",
    "scores = cross_val_score(pipe, X, y, cv=5).mean()\n",
    "print(f\"cv = 5, accuracy  = {scores}\")\n",
    "\n",
    "\n"
   ]
  },
  {
   "cell_type": "code",
   "execution_count": 22,
   "id": "f2b9f0e4",
   "metadata": {
    "scrolled": true
   },
   "outputs": [
    {
     "name": "stdout",
     "output_type": "stream",
     "text": [
      "leave one out, accuracy = 0.6147902869757175\n"
     ]
    }
   ],
   "source": [
    "from sklearn.model_selection import LeaveOneOut\n",
    "\n",
    "X=X\n",
    "y = y\n",
    "\n",
    "loo = LeaveOneOut()\n",
    "cm = np.zeros((5,5))\n",
    "\n",
    "accuracy = []\n",
    "count =0\n",
    "for train_index, test_index in loo.split(X):\n",
    "\n",
    "        X_train, X_test = X.iloc[train_index], X.iloc[test_index]\n",
    "        y_train, y_test = y.iloc[train_index], y.iloc[test_index]\n",
    "    \n",
    "        \n",
    "        pipe.fit(X_train,y_train)\n",
    "        pred = pipe.predict(X_test)\n",
    "        accuracy.append(accuracy_score(y_test,pred))\n",
    "\n",
    "        #temp one value cm \n",
    "        temp =np.array(confusion_matrix(y_test,pred,labels = list_of_positions))  \n",
    "        # add temp to total cm \n",
    "        cm = np.add(temp, cm) \n",
    "print(f\"leave one out, accuracy = {sum(accuracy)/906}\")   \n",
    "\n",
    "\n",
    "scores = cross_val_score(pipe, X, y, cv=5,scoring = 'accuracy').mean()\n",
    "\n",
    "\n",
    "   "
   ]
  },
  {
   "cell_type": "code",
   "execution_count": 23,
   "id": "442c2296",
   "metadata": {
    "scrolled": true
   },
   "outputs": [
    {
     "data": {
      "image/png": "[encoded data removed]",
      "text/plain": [
       "<Figure size 432x288 with 2 Axes>"
      ]
     },
     "metadata": {
      "needs_background": "light"
     },
     "output_type": "display_data"
    },
    {
     "data": {
      "image/png": "[encoded data removed]",
      "text/plain": [
       "<Figure size 432x288 with 2 Axes>"
      ]
     },
     "metadata": {
      "needs_background": "light"
     },
     "output_type": "display_data"
    }
   ],
   "source": [
    "\n",
    "disp = ConfusionMatrixDisplay(confusion_matrix=cm,\n",
    "                              display_labels=list_of_positions1)\n",
    "\n",
    "disp.plot(values_format='2g')\n",
    "\n",
    "ax = plt.gca()\n",
    "ax.tick_params(axis='x', labelrotation = 45)\n",
    "plt.tight_layout()\n",
    "plt.savefig(\"cm.png\")\n",
    "\n",
    "plt.show()\n",
    "\n",
    "\n",
    "row_sum = np.sum(cm, axis=1)\n",
    "cmn = cm/row_sum[:,None]\n",
    "cmn =np.round(cmn, decimals= 2)\n",
    "disp = ConfusionMatrixDisplay(confusion_matrix=cmn,\n",
    "                              display_labels=list_of_positions1)\n",
    "disp.plot()\n",
    "ax = plt.gca()\n",
    "ax.tick_params(axis='x', labelrotation = 45)\n",
    "plt.title(\"Normalized\")\n",
    "plt.tight_layout()\n",
    "plt.savefig(\"cm_normalized.png\")\n",
    "plt.show()\n",
    "\n",
    "\n",
    "# plt.show()"
   ]
  },
  {
   "cell_type": "code",
   "execution_count": 24,
   "id": "9c9469d1",
   "metadata": {},
   "outputs": [
    {
     "name": "stdout",
     "output_type": "stream",
     "text": [
      "Professor\n",
      "Recall = 0.8457583547557841\n",
      "Presicion = 0.7311111111111112\n",
      "F1 score = 0.7842669845053636\n",
      "\n",
      "Associate Professor\n",
      "Recall = 0.28780487804878047\n",
      "Presicion = 0.4338235294117647\n",
      "F1 score = 0.34604105571847504\n",
      "\n",
      "Assistant Professor\n",
      "Recall = 0.5614035087719298\n",
      "Presicion = 0.49740932642487046\n",
      "F1 score = 0.5274725274725275\n",
      "\n",
      "Lecturer\n",
      "Recall = 0.047619047619047616\n",
      "Presicion = 0.3333333333333333\n",
      "F1 score = 0.08333333333333333\n",
      "\n",
      "Lab Lecturer\n",
      "Recall = 0.6\n",
      "Presicion = 0.5806451612903226\n",
      "F1 score = 0.5901639344262295\n",
      "\n"
     ]
    }
   ],
   "source": [
    "metrics_calculator(cm)    "
   ]
  },
  {
   "cell_type": "markdown",
   "id": "230939e9",
   "metadata": {},
   "source": [
    "<H2>SMOTE DATA KNN </H2>"
   ]
  },
  {
   "cell_type": "code",
   "execution_count": 25,
   "id": "b4d4cd49",
   "metadata": {
    "scrolled": true
   },
   "outputs": [],
   "source": [
    "from collections import Counter\n",
    "from sklearn.datasets import make_classification\n",
    "from imblearn.over_sampling import SMOTE \n",
    "\n",
    "\n",
    "\n",
    "sm = SMOTE(random_state=42)\n",
    "\n",
    "X_smote,y_smote =sm.fit_resample(X, y)\n",
    "\n",
    "#smoted one hot encoder reconstruction\n",
    "array = X_smote.loc[[i for i in range(X_smote.shape[0])],[j for j in range(3,X_smote.shape[1])]].to_numpy()\n",
    "max_index = np.argmax(array, axis=1)\n",
    "array = np.zeros((array.shape[0],array.shape[1]))\n",
    "for i in range(array.shape[0]):\n",
    "    array[i][max_index[i]] = 0.2\n",
    "X_smote.loc[[i for i in range(X_smote.shape[0])],[j for j in range(3,X_smote.shape[1])]] = array"
   ]
  },
  {
   "cell_type": "code",
   "execution_count": 27,
   "id": "8b86a347",
   "metadata": {
    "scrolled": false
   },
   "outputs": [
    {
     "name": "stdout",
     "output_type": "stream",
     "text": [
      "0.6192052980132451\n"
     ]
    }
   ],
   "source": [
    "\n",
    "loo = LeaveOneOut()\n",
    "\n",
    "#arxikopoihsh confusion matrix\n",
    "cm = np.zeros((5,5))\n",
    "\n",
    "\n",
    "accuracy = []\n",
    "\n",
    "\n",
    "for train_index, test_index in loo.split(X):\n",
    "\n",
    "        X_train, X_test = X.iloc[train_index], X.iloc[test_index]\n",
    "        y_train, y_test = y.iloc[train_index], y.iloc[test_index]\n",
    "       \n",
    "        #prosartisi twn smote data sta train\n",
    "        X_train = pd.concat([X_train,X_smote.loc[906:]] )\n",
    "        y_train = pd.concat([y_train,y_smote.loc[906:]] )\n",
    "\n",
    "\n",
    "\n",
    "\n",
    "\n",
    "\n",
    "\n",
    "\n",
    "        pipe.fit(X_train,y_train)\n",
    "        pred = pipe.predict(X_test)\n",
    "        accuracy.append(accuracy_score(y_test,pred))\n",
    "\n",
    "\n",
    "\n",
    "        temp =np.array(confusion_matrix(y_test,pred,labels = list_of_positions))  \n",
    "        cm = np.add(temp, cm) \n",
    "print(f\"leave one out, accuracy = {sum(accuracy)/906}\")\n",
    "scores = cross_val_score(pipe, X, y, cv=5,scoring = 'accuracy').mean()"
   ]
  },
  {
   "cell_type": "code",
   "execution_count": 28,
   "id": "a9dad2eb",
   "metadata": {},
   "outputs": [
    {
     "data": {
      "image/png": "[encoded data removed]",
      "text/plain": [
       "<Figure size 432x288 with 2 Axes>"
      ]
     },
     "metadata": {
      "needs_background": "light"
     },
     "output_type": "display_data"
    },
    {
     "data": {
      "image/png": "[encoded data removed]",
      "text/plain": [
       "<Figure size 432x288 with 2 Axes>"
      ]
     },
     "metadata": {
      "needs_background": "light"
     },
     "output_type": "display_data"
    }
   ],
   "source": [
    "\n",
    "\n",
    "\n",
    "disp = ConfusionMatrixDisplay(confusion_matrix=cm,\n",
    "                              display_labels=list_of_positions1)\n",
    "\n",
    "disp.plot(values_format='2g')\n",
    "\n",
    "ax = plt.gca()\n",
    "ax.tick_params(axis='x', labelrotation = 45)\n",
    "plt.tight_layout()\n",
    "plt.savefig(\"cm_SMOTE.png\")\n",
    "\n",
    "plt.show()\n",
    "\n",
    "\n",
    "row_sum = np.sum(cm, axis=1)\n",
    "cmn = cm/row_sum[:,None]\n",
    "cmn =np.round(cmn, decimals= 2)\n",
    "disp = ConfusionMatrixDisplay(confusion_matrix=cmn,\n",
    "                              display_labels=list_of_positions1)\n",
    "disp.plot()\n",
    "ax = plt.gca()\n",
    "ax.tick_params(axis='x', labelrotation = 45)\n",
    "plt.title(\"Normalized\")\n",
    "plt.tight_layout()\n",
    "plt.savefig(\"cm_normalized_SMOTE.png\")\n",
    "plt.show()\n"
   ]
  },
  {
   "cell_type": "code",
   "execution_count": 29,
   "id": "9a83e1e5",
   "metadata": {},
   "outputs": [
    {
     "name": "stdout",
     "output_type": "stream",
     "text": [
      "Professor\n",
      "Recall = 0.6452442159383034\n",
      "Presicion = 0.8311258278145696\n",
      "F1 score = 0.7264833574529668\n",
      "\n",
      "Associate Professor\n",
      "Recall = 0.5219512195121951\n",
      "Presicion = 0.4495798319327731\n",
      "F1 score = 0.48306997742663665\n",
      "\n",
      "Assistant Professor\n",
      "Recall = 0.5730994152046783\n",
      "Presicion = 0.5384615384615384\n",
      "F1 score = 0.5552407932011331\n",
      "\n",
      "Lecturer\n",
      "Recall = 0.9523809523809523\n",
      "Presicion = 0.3225806451612903\n",
      "F1 score = 0.4819277108433735\n",
      "\n",
      "Lab Lecturer\n",
      "Recall = 0.7083333333333334\n",
      "Presicion = 0.6967213114754098\n",
      "F1 score = 0.7024793388429753\n",
      "\n"
     ]
    }
   ],
   "source": [
    "metrics_calculator(cm)  "
   ]
  },
  {
   "cell_type": "markdown",
   "id": "df1dcb57",
   "metadata": {},
   "source": [
    "<H2>ALL DATA SVM</H2>"
   ]
  },
  {
   "cell_type": "code",
   "execution_count": 33,
   "id": "75b7b34b",
   "metadata": {},
   "outputs": [
    {
     "name": "stdout",
     "output_type": "stream",
     "text": [
      "cv = 5, accuracy = 0.6181288324934734\n"
     ]
    }
   ],
   "source": [
    "X=x2\n",
    "y=df[\"Position\"]\n",
    "\n",
    "grid = SVC()\n",
    "\n",
    "\n",
    "\n",
    "grid.fit(X,y)\n",
    "pred = grid.predict(X)\n",
    "\n",
    "\n",
    "\n",
    "scores = cross_val_score(grid, X, y, cv=5).mean()\n",
    "print(f\"cv = 5, accuracy = {scores}\")\n"
   ]
  },
  {
   "cell_type": "markdown",
   "id": "c56d51dd",
   "metadata": {},
   "source": [
    "<H2>ΑLL DATA NAIVE </H2>"
   ]
  },
  {
   "cell_type": "code",
   "execution_count": 34,
   "id": "cc261e5f",
   "metadata": {},
   "outputs": [
    {
     "name": "stdout",
     "output_type": "stream",
     "text": [
      "cv = 5, accuracy = 0.1743731406714832\n"
     ]
    }
   ],
   "source": [
    "from sklearn.naive_bayes import GaussianNB\n",
    "\n",
    "\n",
    "\n",
    "\n",
    "grid = GaussianNB()\n",
    "\n",
    "\n",
    "\n",
    "grid.fit(X,y)\n",
    "pred = grid.predict(X)\n",
    "\n",
    "\n",
    "\n",
    "scores = cross_val_score(grid, X, y, cv=5).mean()\n",
    "print(f\"cv = 5, accuracy = {scores}\")"
   ]
  },
  {
   "cell_type": "markdown",
   "id": "3fb4182b",
   "metadata": {},
   "source": [
    "<H2>ΑLL DATA dt </H2>\n"
   ]
  },
  {
   "cell_type": "code",
   "execution_count": 35,
   "id": "5afe33a4",
   "metadata": {
    "scrolled": true
   },
   "outputs": [
    {
     "name": "stdout",
     "output_type": "stream",
     "text": [
      "cv = 5, accuracy = 0.557416064598385\n"
     ]
    }
   ],
   "source": [
    "from sklearn.tree import DecisionTreeClassifier\n",
    "\n",
    "\n",
    "\n",
    "grid =DecisionTreeClassifier()\n",
    "\n",
    "\n",
    "grid.fit(X,y)\n",
    "pred = grid.predict(X)\n",
    "\n",
    "\n",
    "\n",
    "scores = cross_val_score(grid, X, y, cv=5).mean()\n",
    "print(f\"cv = 5, accuracy = {scores}\")"
   ]
  }
 ],
 "metadata": {
  "kernelspec": {
   "display_name": "Python 3 (ipykernel)",
   "language": "python",
   "name": "python3"
  },
  "language_info": {
   "codemirror_mode": {
    "name": "ipython",
    "version": 3
   },
   "file_extension": ".py",
   "mimetype": "text/x-python",
   "name": "python",
   "nbconvert_exporter": "python",
   "pygments_lexer": "ipython3",
   "version": "3.9.7"
  }
 },
 "nbformat": 4,
 "nbformat_minor": 5
}
