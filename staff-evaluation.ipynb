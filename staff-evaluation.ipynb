{
 "cells": [
  {
   "cell_type": "code",
   "execution_count": 34,
   "id": "0464ba5f",
   "metadata": {},
   "outputs": [],
   "source": [
    "import pandas as pd\n",
    "import matplotlib.pyplot as plt\n",
    "import numpy as np\n",
    "#dep info later\n",
    "%matplotlib inline"
   ]
  },
  {
   "cell_type": "code",
   "execution_count": 35,
   "id": "7684c14c",
   "metadata": {},
   "outputs": [],
   "source": [
    "df = pd.read_csv(\"cleandata.csv\")\n",
    "columns = list(df)\n",
    "df['Position'] = pd.Categorical(df['Position'],\n",
    "                                    categories=['Professor', 'Associate Professor', 'Assistant Professor', 'Lecturer',\n",
    "                                                'Lab Lecturer'],\n",
    "                                    ordered=True)\n",
    "df[\"age_by_5\"] = ((df[\"age\"] -1)// 4) * 4+1\n",
    "df[\"C\"] = pd.to_numeric(df[\"C\"], errors=\"coerce\")\n",
    "df[\"P\"] = pd.to_numeric(df[\"P\"], errors=\"coerce\")\n",
    "df[\"H\"] = pd.to_numeric(df[\"H\"], errors=\"coerce\")\n",
    "df[\"P5\"] = pd.to_numeric(df[\"P5\"], errors=\"coerce\")\n",
    "df[\"C5\"] = pd.to_numeric(df[\"C5\"], errors=\"coerce\")\n",
    "df[\"H5\"] = pd.to_numeric(df[\"H5\"], errors=\"coerce\")\n",
    "df[\"avgC\"] = pd.to_numeric(df[\"avgC\"], errors=\"coerce\")\n",
    "df[\"P5avg\"] = df[\"P5\"] /6\n",
    "df[\"C5avg\"] = df[\"C5\"] /6\n",
    "df[\"H5avg\"] = df[\"H5\"] /6\n",
    "\n",
    "list_of_positions = ['Professor', 'Associate Professor', 'Assistant Professor', 'Lecturer', 'Lab Lecturer']\n",
    "list_of_dept = df[\"Dept\"].value_counts().index\n",
    "df[[\"P\",\"C\",\"H\",\"P5\",\"C5\",\"H5\"]] = df[[\"P\",\"C\",\"H\",\"P5\",\"C5\",\"H5\"]].fillna(0)\n"
   ]
  },
  {
   "cell_type": "code",
   "execution_count": 36,
   "id": "52cc1f4a",
   "metadata": {},
   "outputs": [],
   "source": [
    "#epistrefei dusdiastato pikana me to timeseries twn P h (C kai C<30000)\n",
    "\n",
    "def meleti_timeseries(c_or_p):\n",
    "    # gia meleti ana xrono\n",
    "    if c_or_p==\"P\":\n",
    "        start = \"2021.1\"\n",
    "    else:\n",
    "        start = \"2021.2\"\n",
    "    filt = ((df[\"age\"]>30)  & (df[\"C\"]<30000))\n",
    "\n",
    "    dfc = df[filt].loc[:,start:\"1981.2\":2]\n",
    "# \n",
    "\n",
    "    for column in dfc:\n",
    "        dfc[column] = pd.to_numeric(dfc[column], errors=\"coerce\")\n",
    "    \n",
    "    np_arrayc = dfc.to_numpy()\n",
    "\n",
    "    return np_arrayc\n",
    "\n",
    "cit_array= meleti_timeseries(\"C\")\n"
   ]
  },
  {
   "cell_type": "code",
   "execution_count": 37,
   "id": "92ed2a00",
   "metadata": {},
   "outputs": [],
   "source": [
    "#nan=>0\n",
    "cit_array= np.nan_to_num(cit_array, copy=True, nan=0, posinf=None, neginf=None)\n",
    "\n",
    "\n",
    "#centered moving average\n",
    "cit_array_copy= cit_array.copy() \n",
    "for i in range(len(cit_array)):\n",
    "    for j in range(1,len(cit_array[i])-1):\n",
    "         cit_array[i][j]= (cit_array_copy[i][j-1] + cit_array_copy[i][j] + cit_array_copy[i][j+1])/3\n",
    "\n",
    "\n",
    "\n",
    "\n",
    "X_train=cit_array\n",
    "\n"
   ]
  },
  {
   "cell_type": "code",
   "execution_count": 38,
   "id": "20d139dd",
   "metadata": {},
   "outputs": [],
   "source": [
    "\n",
    "from tslearn.clustering import TimeSeriesKMeans\n",
    "\n",
    "\n"
   ]
  },
  {
   "cell_type": "markdown",
   "id": "30cd1898",
   "metadata": {},
   "source": [
    "ftiaxnoume ta 4 clusters"
   ]
  },
  {
   "cell_type": "code",
   "execution_count": 39,
   "id": "97c2dad0",
   "metadata": {},
   "outputs": [
    {
     "data": {
      "text/plain": [
       "0      NaN\n",
       "1      NaN\n",
       "2      NaN\n",
       "3      NaN\n",
       "4      NaN\n",
       "      ... \n",
       "901    0.0\n",
       "902    NaN\n",
       "903    NaN\n",
       "904    0.0\n",
       "905    NaN\n",
       "Name: new, Length: 906, dtype: float64"
      ]
     },
     "execution_count": 39,
     "metadata": {},
     "output_type": "execute_result"
    }
   ],
   "source": [
    "from sklearn.cluster import  KMeans\n",
    "\n",
    "\n",
    "filt = ((df[\"age\"]>30)  & (df[\"C\"]<30000))\n",
    "clusters= 4\n",
    "X  = df[filt][\"C\"].values.reshape(-1,1)\n",
    "kmeans = KMeans(n_clusters=clusters, random_state=0).fit(X)\n",
    "pred = kmeans.predict(X)\n",
    "\n",
    "df.loc[df[filt==True].index,\"new\"]=pred\n",
    "\n",
    "pd.to_numeric(df[\"new\"], errors=\"coerce\")"
   ]
  },
  {
   "cell_type": "code",
   "execution_count": 40,
   "id": "73a9c108",
   "metadata": {
    "scrolled": true
   },
   "outputs": [
    {
     "name": "stdout",
     "output_type": "stream",
     "text": [
      "     count          mean          std      min       25%      50%       75%  \\\n",
      "new                                                                           \n",
      "0.0  125.0   1117.272000   765.412606     37.0    429.00    990.0   1700.00   \n",
      "1.0   20.0   8737.000000  1719.576784   6655.0   7481.25   8209.5   9753.75   \n",
      "2.0   51.0   4335.490196  1054.991590   2821.0   3514.00   4242.0   5344.00   \n",
      "3.0    4.0  17154.500000  1046.103086  15720.0  16825.50  17346.0  17675.00   \n",
      "\n",
      "         max  \n",
      "new           \n",
      "0.0   2702.0  \n",
      "1.0  12439.0  \n",
      "2.0   6271.0  \n",
      "3.0  18206.0  \n"
     ]
    },
    {
     "data": {
      "image/png": "[encoded data removed]",
      "text/plain": [
       "<Figure size 432x288 with 1 Axes>"
      ]
     },
     "metadata": {
      "needs_background": "light"
     },
     "output_type": "display_data"
    }
   ],
   "source": [
    "#plhrofories gia clusters (proeretiko)\n",
    "\n",
    "print(df.groupby(\"new\").describe()[\"C\"])\n",
    "grades = [\"normal\",\"very good\",\"good\", \"extraordinary\"]\n",
    "\n",
    "for i in range(4):\n",
    "    filt = df[\"new\"]==i\n",
    "    plt.scatter(df[filt][\"C\"],[1 for i in range(len(df[filt]))],label= grades[i])\n",
    "    \n",
    "plt.xlabel(\"Citations\")\n",
    "plt.legend()\n",
    "plt.show()    "
   ]
  },
  {
   "cell_type": "code",
   "execution_count": 41,
   "id": "b3d5c085",
   "metadata": {},
   "outputs": [],
   "source": [
    "#ypologizei toys mesoys orous kathe xronias enos cluster\n",
    "\n",
    "def cluster_centers_def(c_or_p,i):\n",
    "    # gia meleti ana xrono\n",
    "    if c_or_p==\"P\":\n",
    "        start = \"2021.1\"\n",
    "    else:\n",
    "        start = \"2021.2\"\n",
    "    filt = ((df[\"age\"]>30)  & (df[\"C\"]<30000) & (df[\"new\"]==i))\n",
    "\n",
    "    dfc = df[filt].loc[:,start:\"1981.2\":2]\n",
    "# \n",
    "\n",
    "    for column in dfc:\n",
    "        dfc[column] = pd.to_numeric(dfc[column], errors=\"coerce\")\n",
    "    dfc = dfc.fillna(0)    \n",
    "    \n",
    "    dba_km = TimeSeriesKMeans(n_clusters=1,\n",
    "                              n_init = 100,\n",
    "                              max_iter_barycenter=100\n",
    "                              )\n",
    "    filt= (df[\"new\"]==i)\n",
    "    X=dfc[filt]\n",
    "    y_pred = dba_km.fit_predict(X)\n",
    "\n",
    "    cluster_centers = dba_km.cluster_centers_\n",
    "    print(    cluster_centers)\n",
    "    return cluster_centers\n",
    "\n",
    "\n",
    "\n",
    "\n",
    "\n"
   ]
  },
  {
   "cell_type": "code",
   "execution_count": 42,
   "id": "5a68ea5c",
   "metadata": {
    "scrolled": true
   },
   "outputs": [
    {
     "name": "stderr",
     "output_type": "stream",
     "text": [
      "C:\\Users\\chick\\AppData\\Local\\Temp/ipykernel_15640/1382982304.py:23: UserWarning: Boolean Series key will be reindexed to match DataFrame index.\n",
      "  X=dfc[filt]\n"
     ]
    },
    {
     "name": "stdout",
     "output_type": "stream",
     "text": [
      "[[[6.2744e+01]\n",
      "  [6.7168e+01]\n",
      "  [6.6008e+01]\n",
      "  [6.6488e+01]\n",
      "  [6.2016e+01]\n",
      "  [6.3536e+01]\n",
      "  [6.3560e+01]\n",
      "  [6.1592e+01]\n",
      "  [5.7544e+01]\n",
      "  [5.2752e+01]\n",
      "  [4.9616e+01]\n",
      "  [4.6728e+01]\n",
      "  [4.2656e+01]\n",
      "  [3.9688e+01]\n",
      "  [3.6024e+01]\n",
      "  [3.3480e+01]\n",
      "  [3.0120e+01]\n",
      "  [2.6184e+01]\n",
      "  [2.2440e+01]\n",
      "  [2.0176e+01]\n",
      "  [1.6664e+01]\n",
      "  [1.6192e+01]\n",
      "  [1.3112e+01]\n",
      "  [1.2208e+01]\n",
      "  [1.1864e+01]\n",
      "  [1.0584e+01]\n",
      "  [9.5520e+00]\n",
      "  [8.6240e+00]\n",
      "  [6.1440e+00]\n",
      "  [5.4320e+00]\n",
      "  [3.7440e+00]\n",
      "  [2.3840e+00]\n",
      "  [1.8880e+00]\n",
      "  [1.6160e+00]\n",
      "  [1.0720e+00]\n",
      "  [6.4800e-01]\n",
      "  [4.1600e-01]\n",
      "  [1.3600e-01]\n",
      "  [3.2000e-02]\n",
      "  [4.0000e-02]\n",
      "  [0.0000e+00]]]\n"
     ]
    },
    {
     "name": "stderr",
     "output_type": "stream",
     "text": [
      "C:\\Users\\chick\\AppData\\Local\\Temp/ipykernel_15640/1382982304.py:23: UserWarning: Boolean Series key will be reindexed to match DataFrame index.\n",
      "  X=dfc[filt]\n"
     ]
    },
    {
     "name": "stdout",
     "output_type": "stream",
     "text": [
      "[[[416.7 ]\n",
      "  [478.8 ]\n",
      "  [482.2 ]\n",
      "  [501.45]\n",
      "  [490.95]\n",
      "  [512.4 ]\n",
      "  [503.45]\n",
      "  [490.9 ]\n",
      "  [475.65]\n",
      "  [455.3 ]\n",
      "  [421.95]\n",
      "  [391.  ]\n",
      "  [377.4 ]\n",
      "  [332.15]\n",
      "  [322.85]\n",
      "  [311.65]\n",
      "  [272.9 ]\n",
      "  [235.9 ]\n",
      "  [205.2 ]\n",
      "  [173.85]\n",
      "  [141.25]\n",
      "  [110.45]\n",
      "  [ 92.5 ]\n",
      "  [ 81.9 ]\n",
      "  [ 67.5 ]\n",
      "  [ 59.35]\n",
      "  [ 40.85]\n",
      "  [ 33.45]\n",
      "  [ 26.35]\n",
      "  [ 18.05]\n",
      "  [  8.  ]\n",
      "  [  4.45]\n",
      "  [  3.8 ]\n",
      "  [  1.75]\n",
      "  [  0.  ]\n",
      "  [  0.  ]\n",
      "  [  0.  ]\n",
      "  [  0.  ]\n",
      "  [  0.  ]\n",
      "  [  0.  ]\n",
      "  [  0.  ]]]\n"
     ]
    },
    {
     "name": "stderr",
     "output_type": "stream",
     "text": [
      "C:\\Users\\chick\\AppData\\Local\\Temp/ipykernel_15640/1382982304.py:23: UserWarning: Boolean Series key will be reindexed to match DataFrame index.\n",
      "  X=dfc[filt]\n"
     ]
    },
    {
     "name": "stdout",
     "output_type": "stream",
     "text": [
      "[[[245.01960784]\n",
      "  [280.8627451 ]\n",
      "  [275.31372549]\n",
      "  [269.80392157]\n",
      "  [260.19607843]\n",
      "  [258.19607843]\n",
      "  [253.1372549 ]\n",
      "  [260.01960784]\n",
      "  [228.41176471]\n",
      "  [216.62745098]\n",
      "  [192.82352941]\n",
      "  [187.23529412]\n",
      "  [172.23529412]\n",
      "  [156.09803922]\n",
      "  [154.19607843]\n",
      "  [137.58823529]\n",
      "  [115.21568627]\n",
      "  [ 99.98039216]\n",
      "  [ 85.15686275]\n",
      "  [ 63.70588235]\n",
      "  [ 56.23529412]\n",
      "  [ 47.84313725]\n",
      "  [ 41.56862745]\n",
      "  [ 36.17647059]\n",
      "  [ 31.70588235]\n",
      "  [ 26.15686275]\n",
      "  [ 19.52941176]\n",
      "  [ 17.2745098 ]\n",
      "  [ 12.33333333]\n",
      "  [  9.19607843]\n",
      "  [  6.35294118]\n",
      "  [  5.49019608]\n",
      "  [  3.60784314]\n",
      "  [  2.82352941]\n",
      "  [  2.80392157]\n",
      "  [  1.45098039]\n",
      "  [  1.11764706]\n",
      "  [  0.47058824]\n",
      "  [  0.37254902]\n",
      "  [  0.31372549]\n",
      "  [  0.        ]]]\n",
      "[[[903.5 ]\n",
      "  [958.75]\n",
      "  [936.  ]\n",
      "  [923.5 ]\n",
      "  [955.25]\n",
      "  [969.75]\n",
      "  [937.25]\n",
      "  [922.25]\n",
      "  [851.25]\n",
      "  [765.  ]\n",
      "  [780.75]\n",
      "  [739.  ]\n",
      "  [756.5 ]\n",
      "  [645.5 ]\n",
      "  [625.75]\n",
      "  [551.  ]\n",
      "  [558.25]\n",
      "  [429.  ]\n",
      "  [356.25]\n",
      "  [286.5 ]\n",
      "  [251.  ]\n",
      "  [221.5 ]\n",
      "  [224.  ]\n",
      "  [208.5 ]\n",
      "  [151.  ]\n",
      "  [169.75]\n",
      "  [134.75]\n",
      "  [125.5 ]\n",
      "  [113.25]\n",
      "  [108.  ]\n",
      "  [ 73.25]\n",
      "  [ 65.75]\n",
      "  [ 48.5 ]\n",
      "  [ 21.75]\n",
      "  [ 12.25]\n",
      "  [  0.  ]\n",
      "  [  0.  ]\n",
      "  [  0.  ]\n",
      "  [  0.  ]\n",
      "  [  0.  ]\n",
      "  [  0.  ]]]\n"
     ]
    },
    {
     "name": "stderr",
     "output_type": "stream",
     "text": [
      "C:\\Users\\chick\\AppData\\Local\\Temp/ipykernel_15640/1382982304.py:23: UserWarning: Boolean Series key will be reindexed to match DataFrame index.\n",
      "  X=dfc[filt]\n"
     ]
    }
   ],
   "source": [
    "cluster_centers= [ ]\n",
    "\n",
    "\n",
    "for i in range(clusters):\n",
    "   cluster_centers.append(cluster_centers_def(\"C\",i))\n",
    "    \n",
    "    \n",
    "    "
   ]
  },
  {
   "cell_type": "code",
   "execution_count": 43,
   "id": "20d2e58e",
   "metadata": {
    "scrolled": false
   },
   "outputs": [
    {
     "data": {
      "image/png": "[encoded data removed]",
      "text/plain": [
       "<Figure size 576x360 with 1 Axes>"
      ]
     },
     "metadata": {
      "needs_background": "light"
     },
     "output_type": "display_data"
    }
   ],
   "source": [
    "#apeikonishs meswn orwn kathe xronias kathe cluster\n",
    "\n",
    "fig = plt.figure(figsize = (8,5))\n",
    "for i in range(clusters):\n",
    "    plt.plot(cluster_centers[i].ravel()[::-1],label = grades[i])\n",
    "plt.xticks(ticks = [i for i in range(0,41,5)],labels= [i for i in range(1981,2022,5)])\n",
    "plt.ylabel(\"citations\")\n",
    "plt.xlabel(\"year\")\n",
    "plt.legend()  \n",
    "\n",
    "plt.savefig(\"cluster_centers.png\")\n",
    "plt.show()    "
   ]
  },
  {
   "cell_type": "code",
   "execution_count": 44,
   "id": "b555cff5",
   "metadata": {},
   "outputs": [],
   "source": [
    "#epistrefei dusdiastato pikana me ta timeseries C (oles tis eggrafes)\n",
    "def timseries_cit():\n",
    "    # gia meleti ana xrono\n",
    "    dfc = df.loc[:,\"2021.2\":\"1981.2\":2]\n",
    "# \n",
    "\n",
    "    for column in dfc:\n",
    "        dfc[column] = pd.to_numeric(dfc[column], errors=\"coerce\")\n",
    "    \n",
    "    np_arrayc = dfc.to_numpy()\n",
    "    np_arrayc = np.nan_to_num(np_arrayc)\n",
    "\n",
    "    return np_arrayc\n",
    "\n",
    "\n",
    "cit_array= timseries_cit()\n",
    "\n",
    "\n",
    "cit_array= np.nan_to_num(cit_array, copy=True, nan=0, posinf=None, neginf=None)\n",
    "#centered moving average\n",
    "cit_array_copy= cit_array.copy() \n",
    "for i in range(len(cit_array)):\n",
    "    for j in range(1,len(cit_array[i])-1):\n",
    "         cit_array[i][j]= (cit_array_copy[i][j-1] + cit_array_copy[i][j] + cit_array_copy[i][j+1])/3\n",
    "\n",
    "          \n"
   ]
  },
  {
   "cell_type": "code",
   "execution_count": 45,
   "id": "01e5fe41",
   "metadata": {
    "scrolled": true
   },
   "outputs": [],
   "source": [
    "# upologismos apostasewn timeseries apo cluster centers\n",
    "\n",
    "clusters=[]\n",
    "\n",
    "#pleonektima xronwn\n",
    "advantage = 10\n",
    "\n",
    "\n",
    "for row in range(len(cit_array)):\n",
    "    distances = []\n",
    "    age=  df[\"age\"][row]\n",
    "    if age<=30 :\n",
    "        for cluster in cluster_centers:\n",
    "\n",
    "            distances.append(np.linalg.norm(cit_array[row][age:0:-1]-cluster.ravel()[40-advantage:40-advantage-age:-1]) )\n",
    "#             print(cluster.ravel()[40-advantage:40-advantage-age-1:-1])\n",
    "        cluster = min(distances) \n",
    "        clusters.append(distances.index(cluster))\n",
    "    else: \n",
    "        clusters.append(df['new'][row])\n",
    "df['Performance']= clusters    "
   ]
  },
  {
   "cell_type": "code",
   "execution_count": 46,
   "id": "48551257",
   "metadata": {
    "scrolled": true
   },
   "outputs": [
    {
     "data": {
      "text/html": [
       "<div>\n",
       "<style scoped>\n",
       "    .dataframe tbody tr th:only-of-type {\n",
       "        vertical-align: middle;\n",
       "    }\n",
       "\n",
       "    .dataframe tbody tr th {\n",
       "        vertical-align: top;\n",
       "    }\n",
       "\n",
       "    .dataframe thead th {\n",
       "        text-align: right;\n",
       "    }\n",
       "</style>\n",
       "<table border=\"1\" class=\"dataframe\">\n",
       "  <thead>\n",
       "    <tr style=\"text-align: right;\">\n",
       "      <th></th>\n",
       "      <th>count</th>\n",
       "      <th>mean</th>\n",
       "      <th>std</th>\n",
       "      <th>min</th>\n",
       "      <th>25%</th>\n",
       "      <th>50%</th>\n",
       "      <th>75%</th>\n",
       "      <th>max</th>\n",
       "    </tr>\n",
       "    <tr>\n",
       "      <th>Performance</th>\n",
       "      <th></th>\n",
       "      <th></th>\n",
       "      <th></th>\n",
       "      <th></th>\n",
       "      <th></th>\n",
       "      <th></th>\n",
       "      <th></th>\n",
       "      <th></th>\n",
       "    </tr>\n",
       "  </thead>\n",
       "  <tbody>\n",
       "    <tr>\n",
       "      <th>0.0</th>\n",
       "      <td>493.0</td>\n",
       "      <td>769.081136</td>\n",
       "      <td>633.407912</td>\n",
       "      <td>0.0</td>\n",
       "      <td>269.00</td>\n",
       "      <td>583.0</td>\n",
       "      <td>1151.00</td>\n",
       "      <td>2702.0</td>\n",
       "    </tr>\n",
       "    <tr>\n",
       "      <th>1.0</th>\n",
       "      <td>84.0</td>\n",
       "      <td>6222.309524</td>\n",
       "      <td>2504.004354</td>\n",
       "      <td>1936.0</td>\n",
       "      <td>4257.75</td>\n",
       "      <td>6189.0</td>\n",
       "      <td>7717.00</td>\n",
       "      <td>12439.0</td>\n",
       "    </tr>\n",
       "    <tr>\n",
       "      <th>2.0</th>\n",
       "      <td>197.0</td>\n",
       "      <td>2805.233503</td>\n",
       "      <td>1445.139820</td>\n",
       "      <td>676.0</td>\n",
       "      <td>1590.00</td>\n",
       "      <td>2544.0</td>\n",
       "      <td>3708.00</td>\n",
       "      <td>6271.0</td>\n",
       "    </tr>\n",
       "    <tr>\n",
       "      <th>3.0</th>\n",
       "      <td>32.0</td>\n",
       "      <td>12378.312500</td>\n",
       "      <td>6028.307452</td>\n",
       "      <td>3965.0</td>\n",
       "      <td>7720.50</td>\n",
       "      <td>10674.5</td>\n",
       "      <td>16284.25</td>\n",
       "      <td>25718.0</td>\n",
       "    </tr>\n",
       "  </tbody>\n",
       "</table>\n",
       "</div>"
      ],
      "text/plain": [
       "             count          mean          std     min      25%      50%  \\\n",
       "Performance                                                               \n",
       "0.0          493.0    769.081136   633.407912     0.0   269.00    583.0   \n",
       "1.0           84.0   6222.309524  2504.004354  1936.0  4257.75   6189.0   \n",
       "2.0          197.0   2805.233503  1445.139820   676.0  1590.00   2544.0   \n",
       "3.0           32.0  12378.312500  6028.307452  3965.0  7720.50  10674.5   \n",
       "\n",
       "                  75%      max  \n",
       "Performance                     \n",
       "0.0           1151.00   2702.0  \n",
       "1.0           7717.00  12439.0  \n",
       "2.0           3708.00   6271.0  \n",
       "3.0          16284.25  25718.0  "
      ]
     },
     "execution_count": 46,
     "metadata": {},
     "output_type": "execute_result"
    }
   ],
   "source": [
    "filt = ((df[\"age\"]>15))\n",
    "\n",
    "df[filt].groupby(\"Performance\").describe()[\"C\"]"
   ]
  },
  {
   "cell_type": "code",
   "execution_count": 47,
   "id": "68fbdf74",
   "metadata": {},
   "outputs": [
    {
     "data": {
      "image/png": "[encoded data removed]",
      "text/plain": [
       "<Figure size 576x360 with 1 Axes>"
      ]
     },
     "metadata": {
      "needs_background": "light"
     },
     "output_type": "display_data"
    }
   ],
   "source": [
    "# optikopoihsh katigoriopoihshs\n",
    "fig = plt.figure(figsize = (8,5))\n",
    "for i in range(4):\n",
    "    filt= ((df[\"Performance\"]==i) & (df[\"age\"]>15))\n",
    "    plt.scatter(df[filt]['age'],df[filt]['C'],s=3,label = grades[i])\n",
    "plt.xlabel(\"age\")\n",
    "plt.ylabel(\"Citations\")\n",
    "plt.legend()  \n",
    "plt.savefig(\"cluster_results.png\")\n",
    "plt.show()"
   ]
  }
 ],
 "metadata": {
  "kernelspec": {
   "display_name": "Python 3 (ipykernel)",
   "language": "python",
   "name": "python3"
  },
  "language_info": {
   "codemirror_mode": {
    "name": "ipython",
    "version": 3
   },
   "file_extension": ".py",
   "mimetype": "text/x-python",
   "name": "python",
   "nbconvert_exporter": "python",
   "pygments_lexer": "ipython3",
   "version": "3.9.7"
  }
 },
 "nbformat": 4,
 "nbformat_minor": 5
}
